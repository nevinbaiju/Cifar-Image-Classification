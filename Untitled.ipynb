{
 "cells": [
  {
   "cell_type": "code",
   "execution_count": 3,
   "metadata": {},
   "outputs": [
    {
     "name": "stderr",
     "output_type": "stream",
     "text": [
      "Using TensorFlow backend.\n"
     ]
    }
   ],
   "source": [
    "import numpy as np\n",
    "from sklearn.metrics import classification_report\n",
    "from sklearn.metrics import accuracy_score\n",
    "from keras.datasets import cifar10\n",
    "from keras.models import Sequential\n",
    "from keras.layers import Dense\n",
    "from keras.layers import Dropout\n",
    "from keras.layers import Flatten\n",
    "from keras.layers import ZeroPadding2D\n",
    "from keras.layers.convolutional import Conv2D\n",
    "from keras.layers.convolutional import MaxPooling2D\n",
    "from keras.layers.advanced_activations import LeakyReLU, PReLU\n",
    "from keras.utils import np_utils\n",
    "from keras import backend as K\n",
    "K.set_image_dim_ordering('th')\n",
    "from keras.models import load_model"
   ]
  },
  {
   "cell_type": "code",
   "execution_count": null,
   "metadata": {
    "collapsed": true
   },
   "outputs": [],
   "source": [
    "def load_and_normalize():\n",
    "    (Xtrain, Ytrain), (Xtest, Ytest) = cifar10.load_data()\n",
    "    \n",
    "    Xtrain=Xtrain.astype('float')\n",
    "    Xtest=Xtest.astype('float')\n",
    "    \n",
    "    Xtrain=Xtrain/255.0\n",
    "    Xtest=Xtest/255.0\n",
    "    \n",
    "    YT=Ytest\n",
    "    Ytrain = np_utils.to_categorical(Ytrain)\n",
    "    Ytest = np_utils.to_categorical(Ytest)\n",
    "    num_classes = Ytest.shape[1]\n",
    "    return Xtrain,Ytrain,Xtest,Ytest,num_classes,YT\n",
    "\n",
    "def BuildModel():\n",
    "    model= Sequential()\n",
    "    model.add(Conv2D(32, (3, 3),input_shape=(3,32,32), padding=\"same\", activation=\"linear\"))\n",
    "    model.add(LeakyReLU(alpha=.001))\n",
    "    model.add(ZeroPadding2D(padding=(1,1)))\n",
    "    model.add(MaxPooling2D(pool_size=(2, 2)))\n",
    "    model.add(Dropout(0.1))\n",
    "    \n",
    "    model.add(Conv2D(64, (3,3), padding=\"same\", activation=\"linear\"))\n",
    "    model.add(LeakyReLU(alpha=.001))\n",
    "    model.add(MaxPooling2D(pool_size=(2,2)))\n",
    "    model.add(Dropout(0.2))\n",
    "    \n",
    "    model.add(Conv2D(128, (3,3), padding=\"same\", activation=\"linear\"))\n",
    "    model.add(LeakyReLU(alpha=.001))\n",
    "    model.add(MaxPooling2D(pool_size=(2,2)))\n",
    "    model.add(Dropout(0.3))\n",
    "    \n",
    "    model.add(Conv2D(256, (3,3), padding=\"same\", activation=\"linear\"))\n",
    "    model.add(LeakyReLU(alpha=.001))\n",
    "    model.add(MaxPooling2D(pool_size=(2,2)))\n",
    "    model.add(Dropout(0.4))\n",
    "    \n",
    "    model.add(Conv2D(512, (3,3), padding=\"same\", activation=\"linear\"))\n",
    "    model.add(LeakyReLU(alpha=.001))\n",
    "    model.add(MaxPooling2D(pool_size=(2,2)))\n",
    "    model.add(Dropout(0.4))\n",
    "    \n",
    "    model.add(Flatten())\n",
    "    model.add(Dense(1024,activation=\"linear\"))\n",
    "    model.add(LeakyReLU(alpha=.001))\n",
    "    model.add(Dropout(0.5))\n",
    "   \n",
    "    model.add(Dense(num_class,activation=\"softmax\"))\n",
    "    model.compile(loss='categorical_crossentropy', optimizer=\"adam\", metrics=['accuracy'])\n",
    "    model.fit(xtrain,ytrain,epochs=1, batch_size=100)\n",
    "    model.save('image_classification.h5')\n",
    "\n",
    "def testModel(model_name):\n",
    "    model=load_model(model_name)\n",
    "    pred= model.predict(xtest)\n",
    "    pred=np.argmax(np.round(pred),axis=1)\n",
    "    return pred\n",
    "\n",
    "def printReports(predictions,original):\n",
    "    print (classification_report(original,predictions))\n",
    "    print (\"Model Accuracy:\",accuracy_score(original,predictions))"
   ]
  },
  {
   "cell_type": "code",
   "execution_count": null,
   "metadata": {},
   "outputs": [
    {
     "name": "stdout",
     "output_type": "stream",
     "text": [
      "Epoch 1/1\n",
      " 8200/50000 [===>..........................] - ETA: 351s - loss: 2.3068 - acc: 0.1324"
     ]
    }
   ],
   "source": [
    "xtrain,ytrain,xtest,ytest,num_class,y=load_and_normalize()\n",
    "BuildModel()\n",
    "predictions=testModel('image_classification.h5')"
   ]
  },
  {
   "cell_type": "code",
   "execution_count": null,
   "metadata": {
    "collapsed": true
   },
   "outputs": [],
   "source": [
    "printReports(predictions,y)"
   ]
  }
 ],
 "metadata": {
  "kernelspec": {
   "display_name": "Python 3",
   "language": "python",
   "name": "python3"
  },
  "language_info": {
   "codemirror_mode": {
    "name": "ipython",
    "version": 3
   },
   "file_extension": ".py",
   "mimetype": "text/x-python",
   "name": "python",
   "nbconvert_exporter": "python",
   "pygments_lexer": "ipython3",
   "version": "3.5.4"
  }
 },
 "nbformat": 4,
 "nbformat_minor": 2
}
